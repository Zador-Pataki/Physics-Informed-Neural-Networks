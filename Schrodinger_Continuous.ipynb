{
  "nbformat": 4,
  "nbformat_minor": 0,
  "metadata": {
    "colab": {
      "name": "Schrodinger_Continuous.ipynb",
      "provenance": [],
      "machine_shape": "hm"
    },
    "kernelspec": {
      "name": "python3",
      "display_name": "Python 3"
    },
    "accelerator": "GPU"
  },
  "cells": [
    {
      "cell_type": "code",
      "metadata": {
        "id": "vhDwSN4sDejo"
      },
      "source": [
        "import torch\n",
        "import numpy as np"
      ],
      "execution_count": 1,
      "outputs": []
    },
    {
      "cell_type": "code",
      "metadata": {
        "id": "_iAKGU_PDkTt",
        "colab": {
          "base_uri": "https://localhost:8080/"
        },
        "outputId": "adb9cd51-042c-466b-a24a-f8072149e8b0"
      },
      "source": [
        "np.random.seed(1234)\n",
        "torch.manual_seed(1234)"
      ],
      "execution_count": 2,
      "outputs": [
        {
          "output_type": "execute_result",
          "data": {
            "text/plain": [
              "<torch._C.Generator at 0x7f5387277c30>"
            ]
          },
          "metadata": {},
          "execution_count": 2
        }
      ]
    },
    {
      "cell_type": "code",
      "metadata": {
        "id": "oblR-IsKDmTG",
        "colab": {
          "base_uri": "https://localhost:8080/"
        },
        "outputId": "f94eaaa7-c52c-4e30-c2e9-90fc716d7ba0"
      },
      "source": [
        "if torch.cuda.is_available():\n",
        "    device = torch.device(\"cuda:0\") \n",
        "    print(\"Running on the GPU\")\n",
        "else:\n",
        "    device = torch.device(\"cpu\")\n",
        "    print(\"Running on the CPU\")"
      ],
      "execution_count": 3,
      "outputs": [
        {
          "output_type": "stream",
          "name": "stdout",
          "text": [
            "Running on the GPU\n"
          ]
        }
      ]
    },
    {
      "cell_type": "markdown",
      "metadata": {
        "id": "fOA4eINjDo7l"
      },
      "source": [
        "# **NEURAL NETWORK**"
      ]
    },
    {
      "cell_type": "code",
      "metadata": {
        "id": "TXT1BzepDtEA"
      },
      "source": [
        "import torch.nn as nn\n",
        "import torch.nn.functional as F\n",
        "from torch import autograd"
      ],
      "execution_count": 4,
      "outputs": []
    },
    {
      "cell_type": "code",
      "metadata": {
        "id": "2yXDf4K5D0b3"
      },
      "source": [
        "class PINN(nn.Module):\n",
        "    def __init__(self, input_dim, output_dim, layer_size):\n",
        "        super(PINN, self).__init__()\n",
        " \n",
        "        self.fc1 = nn.Linear(input_dim, layer_size)\n",
        "        self.fc2 = nn.Linear(layer_size, layer_size)\n",
        "        self.fc3 = nn.Linear(layer_size, layer_size)\n",
        "        self.fc4 = nn.Linear(layer_size, output_dim)\n",
        " \n",
        " \n",
        " \n",
        "    def forward(self, input_grid, input_0, input_lb, input_ub):\n",
        "        _, _, _, _, f_u_predict, f_v_predict = self.forward_it(input_grid.float(), True)\n",
        "        predict_u_0, predict_v_0, _, _, _, _ = self.forward_it(input_0.float(), False)\n",
        "        predict_u_lb, predict_v_lb, predict_u_x_lb, predict_v_x_lb, _, _ = self.forward_it(input_lb.float(), False)\n",
        "        predict_u_ub, predict_v_ub, predict_u_x_ub, predict_v_x_ub, _, _ = self.forward_it(input_ub.float(), False)\n",
        "        return f_u_predict, f_v_predict, predict_u_0, predict_v_0, predict_u_lb, predict_v_lb, predict_u_x_lb, predict_v_x_lb, predict_u_ub, predict_v_ub, predict_u_x_ub, predict_v_x_ub\n",
        " \n",
        " \n",
        " \n",
        "    def forward_it(self, X, flag_pinn):\n",
        "        u_xx, v_xx, u_t, v_t, f_u, f_v = None, None, None, None, None, None \n",
        "\n",
        "        batch_size = X.shape[0]\n",
        "        x, t = X[:, :1], X[:, 1:]\n",
        "        x.requires_grad_(True)\n",
        "        t.requires_grad_(True)\n",
        " \n",
        "        s = nn.Tanh()(self.fc1(torch.cat((x, t), 1)))\n",
        "        s = nn.Tanh()(self.fc2(s))\n",
        "        s = nn.Tanh()(self.fc3(s))\n",
        "        uv = self.fc4(s)\n",
        " \n",
        "        u = uv[:, :1]\n",
        "        v = uv[:, 1:]\n",
        " \n",
        "        u_x = autograd.grad(u, x, torch.ones((batch_size, 1)).to(device), create_graph=True)[0]\n",
        "        v_x = autograd.grad(v, x, torch.ones((batch_size, 1)).to(device), create_graph=True)[0]\n",
        " \n",
        "        if flag_pinn:\n",
        "            u_t = autograd.grad(u, t, torch.ones((batch_size, 1)).to(device), create_graph=True)[0]\n",
        "            v_t = autograd.grad(v, t, torch.ones((batch_size, 1)).to(device), create_graph=True)[0]\n",
        "            u_xx = autograd.grad(u_x, x, torch.ones((batch_size, 1)).to(device), create_graph=True)[0]\n",
        "            v_xx = autograd.grad(v_x, x, torch.ones((batch_size, 1)).to(device), create_graph=True)[0]\n",
        "            f_u = u_t.float() + 0.5 * v_xx.float() + (u ** 2 + v ** 2) * v\n",
        "            f_v = v_t.float() - 0.5 * u_xx.float() - (u ** 2 + v ** 2) * u           \n",
        " \n",
        "        return u, v, u_x, v_x, f_u, f_v\n",
        " \n",
        " \n",
        " \n",
        "    def predict(self, X):\n",
        "        s = nn.Tanh()(self.fc1(X))\n",
        "        s = nn.Tanh()(self.fc2(s))\n",
        "        s = nn.Tanh()(self.fc3(s))\n",
        "        uv = self.fc4(s)\n",
        " \n",
        "        u = uv[:, :1]\n",
        "        v = uv[:, 1:]\n",
        "        return u, v"
      ],
      "execution_count": 5,
      "outputs": []
    },
    {
      "cell_type": "markdown",
      "metadata": {
        "id": "pzN7wDBND6gs"
      },
      "source": [
        "# **OPTIMIZATION**"
      ]
    },
    {
      "cell_type": "code",
      "metadata": {
        "id": "vBqRTk02D3H0"
      },
      "source": [
        "from torch.optim import LBFGS\n",
        "from time import time\n",
        "from tqdm.notebook import tqdm as tqdm"
      ],
      "execution_count": 6,
      "outputs": []
    },
    {
      "cell_type": "code",
      "metadata": {
        "id": "HEbzkjEpEB3C",
        "cellView": "code"
      },
      "source": [
        "class Train():\n",
        "    def __init__(self, network, grid_input, input_0, target_u_0, target_v_0, l_boundary_input, u_boundary_input):\n",
        "        self.net = network\n",
        " \n",
        "        self.lbfgs_optim = LBFGS(self.net.parameters(), lr=1, max_iter=50000, line_search_fn='strong_wolfe')\n",
        "    \n",
        "        self.train_input_grid = grid_input.to(device) \n",
        "        self.train_input_0, self.train_target_u_0, self.train_target_v_0 = input_0.to(device), target_u_0.to(device), target_v_0.to(device)\n",
        "        self.train_input_lb, self.train_input_ub = l_boundary_input.to(device), u_boundary_input.to(device)\n",
        " \n",
        " \n",
        "    def train(self):\n",
        "        start_time = time()\n",
        "        self.train_iteration(self.train_input_grid, self.train_input_0, self.train_target_u_0, self.train_target_v_0, self.train_input_lb, self.train_input_ub)        \n",
        "        end_time = time()\n",
        "        print('Time:', end_time - start_time)     \n",
        " \n",
        " \n",
        " \n",
        "    def train_iteration(self, input_grid, input_0, target_u_0, target_v_0, input_lb, input_ub):\n",
        "        \n",
        "        def closure():\n",
        "            if torch.is_grad_enabled():\n",
        "                self.lbfgs_optim.zero_grad()\n",
        "            f_u_predict, f_v_predict, predict_u_0, predict_v_0, predict_u_lb, predict_v_lb, predict_u_x_lb, predict_v_x_lb, predict_u_ub, predict_v_ub, predict_u_x_ub, predict_v_x_ub \\\n",
        "                = self.net(input_grid, input_0, input_lb, input_ub)\n",
        "            loss = self.loss_function(predict_u_0, target_u_0, predict_v_0, target_v_0, predict_u_lb, predict_u_ub, predict_v_lb, predict_v_ub, predict_u_x_lb, predict_u_x_ub, predict_v_x_lb, predict_v_x_ub, f_u_predict, f_v_predict)\n",
        "            if loss.requires_grad:\n",
        "                loss.backward()            \n",
        "            return loss\n",
        "\n",
        "\n",
        "        self.lbfgs_optim.step(closure)\n",
        " \n",
        " \n",
        "    def loss_function(self, predict_u_0, target_u_0, predict_v_0, target_v_0, predict_u_lb, predict_u_ub, predict_v_lb, predict_v_ub, predict_u_x_lb, predict_u_x_ub, predict_v_x_lb, predict_v_x_ub, f_u_predict, f_v_predict):\n",
        "        loss_fn = nn.MSELoss()\n",
        "        \n",
        "        loss = loss_fn(predict_u_0.double(), target_u_0.double()) + loss_fn(predict_v_0.double(), target_v_0.double()) + loss_fn(predict_u_lb.double(), predict_u_ub.double()) + loss_fn(predict_v_lb.double(), predict_v_ub.double()) + \\\n",
        "            loss_fn(predict_u_x_lb.double(), predict_u_x_ub.double()) + loss_fn(predict_v_x_lb.double(), predict_v_x_ub.double()) + loss_fn(f_u_predict.double(), torch.zeros((f_u_predict.shape[0], 1)).double().to(device)) + \\\n",
        "            loss_fn(f_v_predict.double(), torch.zeros((f_v_predict.shape[0], 1)).double().to(device))\n",
        " \n",
        "        return loss\n"
      ],
      "execution_count": 7,
      "outputs": []
    },
    {
      "cell_type": "markdown",
      "metadata": {
        "id": "OUSb871DEJHl"
      },
      "source": [
        "# **MAIN**"
      ]
    },
    {
      "cell_type": "markdown",
      "metadata": {
        "id": "lEweASuhEMBX"
      },
      "source": [
        "## DATA PREPERATION"
      ]
    },
    {
      "cell_type": "code",
      "metadata": {
        "id": "uBDGw-62EKlS"
      },
      "source": [
        "import scipy.io"
      ],
      "execution_count": 8,
      "outputs": []
    },
    {
      "cell_type": "markdown",
      "metadata": {
        "id": "q0S4WoX4EdRl"
      },
      "source": [
        "FUNCTIONS FOR DATA MANAGEMENT"
      ]
    },
    {
      "cell_type": "code",
      "metadata": {
        "id": "crvV9fTyEejy"
      },
      "source": [
        "def create_passable_data(x, t, u=None, v=None):\n",
        "    N_x = x.shape[0]\n",
        "    N_t = t.shape[0]\n",
        "    passable_input = []\n",
        "    passable_target_u = []\n",
        "    passable_target_v = []\n",
        " \n",
        "    for nt in range(N_t):\n",
        "        for nx in range(N_x):\n",
        "            _t = t[nt, 0]\n",
        "            _x = x[nx, 0]\n",
        "            _passable_input = np.array([_x, _t])[np.newaxis]\n",
        "            passable_input.append(_passable_input)\n",
        "            if (u is not None) and (v is not None):\n",
        "                _u = u[nt, nx]\n",
        "                _v = v[nt, nx]\n",
        "                _passable_target_u = np.array(_u)\n",
        "                _passable_target_v = np.array(_v)\n",
        "                passable_target_u.append(_passable_target_u)\n",
        "                passable_target_v.append(_passable_target_v)\n",
        "  \n",
        "    passable_input = np.array(passable_input)\n",
        "    passable_input = torch.tensor(passable_input).view(N_t * N_x, 2)\n",
        " \n",
        "    if (u is not None) and (v is not None):\n",
        "        passable_target_u = np.array(passable_target_u)\n",
        "        passable_target_u = torch.tensor(passable_target_u).view(N_t * N_x, 1)\n",
        " \n",
        "        passable_target_v = np.array(passable_target_v)\n",
        "        passable_target_v = torch.tensor(passable_target_v).view(N_t * N_x, 1)\n",
        " \n",
        "    return passable_input, passable_target_u, passable_target_v"
      ],
      "execution_count": 9,
      "outputs": []
    },
    {
      "cell_type": "markdown",
      "metadata": {
        "id": "xsVX1ghxEmbR"
      },
      "source": [
        "COLLECTING THE DATA"
      ]
    },
    {
      "cell_type": "code",
      "metadata": {
        "id": "X27DnY-dEnvy"
      },
      "source": [
        "data = scipy.io.loadmat('/content/drive/My Drive/ETH/Private/Bachelor Thesis/Code/Paper 2/main/Data/NLS.mat')\n",
        " \n",
        "t_data = data['tt'].T  # SHAPE (201, 1)\n",
        "x_data = data['x'].T # SHAPE (256,1)\n",
        " \n",
        "h_data = data['uu'].T  # SHAPE (201, 256)\n",
        "u_data = np.real(h_data)\n",
        "v_data = np.imag(h_data)\n",
        " \n",
        "lb = np.array([-5.0, 0.0]) # (spacial lower bound, time lower bound)\n",
        "ub = np.array([5.0, np.pi/2]) # (spacial upper bound, time upper bound)"
      ],
      "execution_count": 11,
      "outputs": []
    },
    {
      "cell_type": "markdown",
      "metadata": {
        "id": "HqRrf4baEunU"
      },
      "source": [
        "CREATING PASSABLE DATA"
      ]
    },
    {
      "cell_type": "code",
      "metadata": {
        "id": "Qa6BR5cQExGB",
        "colab": {
          "base_uri": "https://localhost:8080/"
        },
        "outputId": "0e6b2f65-81d6-419e-a816-661ee42ebbda"
      },
      "source": [
        "grid_input, grid_target_u, grid_target_v = create_passable_data(x_data, t_data, u_data, v_data)\n",
        "print('GRID:', grid_input.shape)\n",
        "\n",
        "l_boundary_input, l_boundary_target_u, l_boundary_target_v = create_passable_data(lb[0][np.newaxis][np.newaxis], t_data, u_data, v_data)\n",
        "print('L BOUNDARY:', l_boundary_input.shape, l_boundary_target_u.shape, l_boundary_target_v.shape)\n",
        "\n",
        "u_boundary_input, u_boundary_target_u, u_boundary_target_v = create_passable_data(ub[0][np.newaxis][np.newaxis], t_data, u_data, v_data)\n",
        "print('U BOUNDARY:', u_boundary_input.shape, u_boundary_target_u.shape, u_boundary_target_v.shape)\n",
        "\n",
        "input_0, target_u_0, target_v_0 = create_passable_data(x_data, lb[1][np.newaxis][np.newaxis], u_data, v_data)\n",
        "print('INIT', input_0.shape, target_u_0.shape, target_v_0.shape)"
      ],
      "execution_count": 12,
      "outputs": [
        {
          "output_type": "stream",
          "name": "stdout",
          "text": [
            "GRID: torch.Size([51456, 2])\n",
            "L BOUNDARY: torch.Size([201, 2]) torch.Size([201, 1]) torch.Size([201, 1])\n",
            "U BOUNDARY: torch.Size([201, 2]) torch.Size([201, 1]) torch.Size([201, 1])\n",
            "INIT torch.Size([256, 2]) torch.Size([256, 1]) torch.Size([256, 1])\n"
          ]
        }
      ]
    },
    {
      "cell_type": "markdown",
      "metadata": {
        "id": "aamDEQYWeY2L"
      },
      "source": [
        "-> reducing passable data size"
      ]
    },
    {
      "cell_type": "code",
      "metadata": {
        "id": "ZdpCBbgbE0Jb",
        "colab": {
          "base_uri": "https://localhost:8080/"
        },
        "outputId": "8b59bf87-1105-4b8e-c7da-f527dddec09c"
      },
      "source": [
        "idx = np.arange(u_boundary_input.shape[0])\n",
        "temp = np.random.permutation(idx)[:50]\n",
        "l_boundary_input, u_boundary_input = l_boundary_input[temp, :].view(-1, 2), u_boundary_input[temp, :].view(-1, 2)\n",
        "\n",
        "idx = np.arange(input_0.shape[0])\n",
        "\n",
        "temp = np.random.permutation(idx)[:50]\n",
        "input_0, target_u_0, target_v_0 = input_0[temp, :].view(-1, 2), target_u_0[temp, :].view(-1, 1), target_v_0[temp, :].view(-1, 1)\n",
        "\n",
        " \n",
        "print('L BOUNDARY:', l_boundary_input.shape)\n",
        "print('U BOUNDARY:', u_boundary_input.shape)\n",
        "print('0:', input_0.shape, target_u_0.shape, target_v_0.shape)"
      ],
      "execution_count": 13,
      "outputs": [
        {
          "output_type": "stream",
          "name": "stdout",
          "text": [
            "L BOUNDARY: torch.Size([50, 2])\n",
            "U BOUNDARY: torch.Size([50, 2])\n",
            "0: torch.Size([50, 2]) torch.Size([50, 1]) torch.Size([50, 1])\n"
          ]
        }
      ]
    },
    {
      "cell_type": "markdown",
      "metadata": {
        "id": "9jlRAXQeFKZL"
      },
      "source": [
        "## TRAINING"
      ]
    },
    {
      "cell_type": "markdown",
      "metadata": {
        "id": "AWiKg8q_FOVS"
      },
      "source": [
        "INITIALIZE NETWORK"
      ]
    },
    {
      "cell_type": "code",
      "metadata": {
        "id": "FcGIDJe3FMob"
      },
      "source": [
        "input_dim, output_dim, layer_size = 2, 2, 100\n",
        "net = PINN(input_dim, output_dim, layer_size).to(device)"
      ],
      "execution_count": 14,
      "outputs": []
    },
    {
      "cell_type": "markdown",
      "metadata": {
        "id": "qITo75e-FSHl"
      },
      "source": [
        "TRAINING NETWORK"
      ]
    },
    {
      "cell_type": "code",
      "metadata": {
        "id": "A7lXB2jfFTT5"
      },
      "source": [
        "train = Train(net, grid_input, input_0, target_u_0, target_v_0, l_boundary_input, u_boundary_input)"
      ],
      "execution_count": 15,
      "outputs": []
    },
    {
      "cell_type": "code",
      "metadata": {
        "id": "SQryvEv5FZqt",
        "colab": {
          "base_uri": "https://localhost:8080/"
        },
        "outputId": "e0676d48-a190-467c-b4b6-a6f6cbc4249e"
      },
      "source": [
        "train.train()"
      ],
      "execution_count": 16,
      "outputs": [
        {
          "output_type": "stream",
          "name": "stdout",
          "text": [
            "Time: 1565.5598545074463\n"
          ]
        }
      ]
    },
    {
      "cell_type": "markdown",
      "metadata": {
        "id": "ah_IFq1WFdKE"
      },
      "source": [
        "## PLOTTING"
      ]
    },
    {
      "cell_type": "code",
      "metadata": {
        "id": "4PprUGS6Feak"
      },
      "source": [
        "import matplotlib.pyplot as plt\n",
        "from matplotlib import cm"
      ],
      "execution_count": 17,
      "outputs": []
    },
    {
      "cell_type": "markdown",
      "metadata": {
        "id": "3-IA2GBhFisz"
      },
      "source": [
        "PLOTTING FUNCTIONS"
      ]
    },
    {
      "cell_type": "code",
      "metadata": {
        "id": "-kf407M4bsDK"
      },
      "source": [
        "def plot_grid(u_plot, t_data, X_grid, T_grid, string_title, lb_input=None, ub_input=None, input_0=None, t_index_low=None, t_index_mid=None, t_index_high=None):\n",
        "    fig = plt.subplots(figsize=(8, 4))\n",
        "    plt.contourf(T_grid, X_grid, u_plot, 1000, cmap=plt.get_cmap('Spectral'))\n",
        "    plt.colorbar()\n",
        "    plt.ylabel(r'$x$')\n",
        "    plt.xlabel(r'$t$')\n",
        "    plt.title(string_title, fontsize = 15) \n",
        "\n",
        "    try:\n",
        "        fig[1].set_ylim(x_data.min(), x_data.max())\n",
        "        fig[1].plot(lb_input[:,1], lb_input[:,0], 'kx', label = 'Data (%d points)' % (lb_input.shape[0]), markersize = 6, clip_on = False)\n",
        "        fig[1].plot(ub_input[:,1], ub_input[:,0], 'kx', label = 'Data (%d points)' % (ub_input.shape[0]), markersize = 6, clip_on = False)\n",
        "        fig[1].plot(input_0[:,1], input_0[:,0], 'kx', label = 'Data (%d points)' % (input_0.shape[0]), markersize = 6, clip_on = False)\n",
        "        \n",
        "        \n",
        "        line = np.linspace(x_data.min(), x_data.max(), 2)[:,None]\n",
        "        fig[1].plot(t_data[t_index_low]*np.ones((2,1)), line, 'k--', linewidth = 1)\n",
        "        fig[1].plot(t_data[t_index_mid]*np.ones((2,1)), line, 'k--', linewidth = 1)\n",
        "        fig[1].plot(t_data[t_index_high]*np.ones((2,1)), line, 'k--', linewidth = 1) \n",
        "    except Exception:\n",
        "        pass    \n",
        "    \n",
        "\n",
        "    plt.show()\n",
        "    plt.draw()\n",
        "    #fig[0].savefig('/content/drive/My Drive/ETH/Private/Bachelor Thesis/Images/Schrodinger Continuous Inference/' + string_title.format(1000), bbox_inches='tight')\n",
        "    plt.close()\n",
        "\n",
        "def plot_time_step(x_data, t_data, u_data, u_pred, t_index, x_lb, x_ub, y_lb, y_ub):\n",
        "\n",
        "\n",
        "\n",
        "    fig = plt.subplots(figsize=(2.6, 2))\n",
        "    fig[1].plot(x_data, u_data[t_index,:], 'b-', linewidth = 2, label = 'Exact')       \n",
        "    fig[1].plot(x_data, u_pred[t_index,:], 'r--', linewidth = 2, label = 'Prediction')\n",
        "    fig[1].set_xlabel('$x$')\n",
        "    fig[1].set_ylabel('$|h(t,x)|$')  \n",
        "    title = '$t = %.2f' % t_data[t_index].item() + '$'\n",
        "    fig[1].set_title(title, fontsize = 15)\n",
        "    fig[1].set_xlim([x_lb, x_ub])\n",
        "    fig[1].set_ylim([y_lb, y_ub])\n",
        "    fig[1].legend(loc='upper center', bbox_to_anchor=(0.5, -0.25), ncol=5, frameon=False)\n",
        "    plt.show()\n",
        "    #fig[1].figure.savefig('/content/drive/My Drive/ETH/Private/Bachelor Thesis/Images/Schrodinger Continuous Inference/target_v_pred_t%.2f' % t_data[t_index].item() + '.png', bbox_inches='tight')\n"
      ],
      "execution_count": 18,
      "outputs": []
    },
    {
      "cell_type": "markdown",
      "metadata": {
        "id": "gd3KXyWHFxFF"
      },
      "source": [
        "PLOTTING TARGET DATA"
      ]
    },
    {
      "cell_type": "code",
      "metadata": {
        "id": "kNrRGttYj41B",
        "colab": {
          "base_uri": "https://localhost:8080/",
          "height": 299
        },
        "outputId": "d04d917e-7ce9-4290-ab9b-af98be2e084a"
      },
      "source": [
        "X, T = np.meshgrid(x_data, t_data)\n",
        "h_target = (u_data**2 + v_data**2)**0.5\n",
        "plot_grid(h_target, t_data, X, T, 'Target: |h(t,x)|')"
      ],
      "execution_count": 19,
      "outputs": [
        {
          "output_type": "display_data",
          "data": {
            "image/png": "[encoded data removed]",
            "text/plain": [
              "<Figure size 576x288 with 2 Axes>"
            ]
          },
          "metadata": {
            "needs_background": "light"
          }
        }
      ]
    },
    {
      "cell_type": "markdown",
      "metadata": {
        "id": "fy_tmfNnF2dw"
      },
      "source": [
        "PLOTTING PREDICTED DATA"
      ]
    },
    {
      "cell_type": "code",
      "metadata": {
        "id": "fOOKI_SnxaKz"
      },
      "source": [
        "u_predict, v_predict = net.predict(grid_input.to(device).float())\n",
        "\n",
        "h_predict = (u_predict.cpu().detach().view(201, 256).numpy()**2 + v_predict.cpu().detach().view(201, 256).numpy()**2)**0.5\n",
        "\n",
        "snapshot_index_low=int(3*t_data.shape[0]/10)\n",
        "snapshot_index_middle=int(t_data.shape[0]/2)\n",
        "snapshot_index_high=int(7*t_data.shape[0]/10)"
      ],
      "execution_count": 20,
      "outputs": []
    },
    {
      "cell_type": "code",
      "metadata": {
        "id": "MoIVxn5pbwrO",
        "colab": {
          "base_uri": "https://localhost:8080/",
          "height": 299
        },
        "outputId": "450a715a-a008-43a6-f914-1963ada497f7"
      },
      "source": [
        "plot_grid(h_predict, t_data, X, T, 'Predict: |h(t,x)|', l_boundary_input, u_boundary_input, input_0, snapshot_index_low, snapshot_index_middle, snapshot_index_high)"
      ],
      "execution_count": 21,
      "outputs": [
        {
          "output_type": "display_data",
          "data": {
            "image/png": "[encoded data removed]",
            "text/plain": [
              "<Figure size 576x288 with 2 Axes>"
            ]
          },
          "metadata": {
            "needs_background": "light"
          }
        }
      ]
    },
    {
      "cell_type": "markdown",
      "metadata": {
        "id": "YJXSyOAmrl0A"
      },
      "source": [
        "TARGET VS PREDICT AT SPECIFIC TIME STEPS\n"
      ]
    },
    {
      "cell_type": "code",
      "metadata": {
        "id": "F21edIJbF0EF",
        "colab": {
          "base_uri": "https://localhost:8080/",
          "height": 209
        },
        "outputId": "4835083b-f2da-4c77-d335-278f7a4fa763"
      },
      "source": [
        "plot_time_step(x_data, t_data, h_target, h_predict, snapshot_index_low, x_data.min(), x_data.max(), h_target.min()- 0.05* h_target.max(), h_target.max()*1.05)"
      ],
      "execution_count": 22,
      "outputs": [
        {
          "output_type": "display_data",
          "data": {
            "image/png": "[encoded data removed]",
            "text/plain": [
              "<Figure size 187.2x144 with 1 Axes>"
            ]
          },
          "metadata": {
            "needs_background": "light"
          }
        }
      ]
    },
    {
      "cell_type": "code",
      "metadata": {
        "id": "ke1YsKV4oMDI",
        "colab": {
          "base_uri": "https://localhost:8080/",
          "height": 209
        },
        "outputId": "e6783558-65c5-4a40-fa25-d91776592a61"
      },
      "source": [
        "plot_time_step(x_data, t_data, h_target, h_predict, snapshot_index_middle, x_data.min(), x_data.max(), h_target.min()- 0.05* h_target.max(), h_target.max()*1.05)"
      ],
      "execution_count": 23,
      "outputs": [
        {
          "output_type": "display_data",
          "data": {
            "image/png": "[encoded data removed]",
            "text/plain": [
              "<Figure size 187.2x144 with 1 Axes>"
            ]
          },
          "metadata": {
            "needs_background": "light"
          }
        }
      ]
    },
    {
      "cell_type": "code",
      "metadata": {
        "id": "62t94_kepqAv",
        "colab": {
          "base_uri": "https://localhost:8080/",
          "height": 209
        },
        "outputId": "88c4d6d6-fa7e-4e59-ac8c-e9b722447ce4"
      },
      "source": [
        "plot_time_step(x_data, t_data, h_target, h_predict, snapshot_index_high, x_data.min(), x_data.max(), h_target.min()- 0.05* h_target.max(), h_target.max()*1.05)"
      ],
      "execution_count": 24,
      "outputs": [
        {
          "output_type": "display_data",
          "data": {
            "image/png": "[encoded data removed]",
            "text/plain": [
              "<Figure size 187.2x144 with 1 Axes>"
            ]
          },
          "metadata": {
            "needs_background": "light"
          }
        }
      ]
    },
    {
      "cell_type": "markdown",
      "metadata": {
        "id": "bPA-6-QQx9Vt"
      },
      "source": [
        "##ERROR\n"
      ]
    },
    {
      "cell_type": "code",
      "metadata": {
        "id": "2fnUaWe3x8hV",
        "colab": {
          "base_uri": "https://localhost:8080/"
        },
        "outputId": "43acbf3f-d806-47d8-a285-e796ad0535d7"
      },
      "source": [
        "criterion = nn.MSELoss()\n",
        "Error = criterion( u_predict.cpu(), grid_target_u) + criterion(v_predict.cpu(), grid_target_v)\n",
        "\n",
        "print('L2 Norm Error:', Error.item())\n",
        "\n",
        "Error_relative = Error / (torch.mean(torch.abs(grid_target_u) + torch.abs(grid_target_v)))\n",
        "print('Relative L2 Norm Error:', Error_relative.item())"
      ],
      "execution_count": 25,
      "outputs": [
        {
          "output_type": "stream",
          "name": "stdout",
          "text": [
            "L2 Norm Error: 9.665164540019174e-05\n",
            "Relative L2 Norm Error: 0.00012988360780483987\n"
          ]
        }
      ]
    }
  ]
}