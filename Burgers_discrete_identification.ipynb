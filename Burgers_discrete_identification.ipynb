{
  "nbformat": 4,
  "nbformat_minor": 0,
  "metadata": {
    "colab": {
      "name": "Burgers_discrete_identification.ipynb",
      "provenance": [],
      "collapsed_sections": [],
      "machine_shape": "hm"
    },
    "kernelspec": {
      "name": "python3",
      "display_name": "Python 3"
    },
    "accelerator": "GPU"
  },
  "cells": [
    {
      "cell_type": "code",
      "metadata": {
        "id": "nzRqrB2tCPJy"
      },
      "source": [
        "import torch\n",
        "import numpy as np"
      ],
      "execution_count": 1,
      "outputs": []
    },
    {
      "cell_type": "code",
      "metadata": {
        "id": "pRSwnHfqCgbC",
        "colab": {
          "base_uri": "https://localhost:8080/"
        },
        "outputId": "6ae891e9-6aee-4859-f76f-462c9fec48f1"
      },
      "source": [
        "np.random.seed(1234)\n",
        "torch.manual_seed(1234)"
      ],
      "execution_count": 2,
      "outputs": [
        {
          "output_type": "execute_result",
          "data": {
            "text/plain": [
              "<torch._C.Generator at 0x7f64889e17d0>"
            ]
          },
          "metadata": {},
          "execution_count": 2
        }
      ]
    },
    {
      "cell_type": "code",
      "metadata": {
        "id": "qAauKoFANT9d",
        "colab": {
          "base_uri": "https://localhost:8080/"
        },
        "outputId": "1340e7be-0301-4f63-a6cc-7afa7b421e98"
      },
      "source": [
        "if torch.cuda.is_available():\n",
        "    device = torch.device(\"cuda:0\") \n",
        "    print(\"Running on the GPU\")\n",
        "else:\n",
        "    device = torch.device(\"cpu\")\n",
        "    print(\"Running on the CPU\")"
      ],
      "execution_count": 3,
      "outputs": [
        {
          "output_type": "stream",
          "name": "stdout",
          "text": [
            "Running on the GPU\n"
          ]
        }
      ]
    },
    {
      "cell_type": "markdown",
      "metadata": {
        "id": "aVzQS6uk_bpk"
      },
      "source": [
        "# **NEURAL NETWORK**"
      ]
    },
    {
      "cell_type": "code",
      "metadata": {
        "id": "10lIzpgQ_43-"
      },
      "source": [
        "import torch.nn as nn\n",
        "import torch.nn.functional as F\n",
        "from torch import autograd"
      ],
      "execution_count": 4,
      "outputs": []
    },
    {
      "cell_type": "code",
      "metadata": {
        "id": "WmTWsvKS_f69"
      },
      "source": [
        "class PINN(nn.Module):\n",
        "    def __init__(self, input_dim, output_dim, layer_size):\n",
        "        super(PINN, self).__init__()\n",
        "        self.lambda_1 = nn.Parameter(torch.Tensor([0]), requires_grad=True)\n",
        "        self.lambda_2 = nn.Parameter(torch.Tensor([0]), requires_grad=True)\n",
        "\n",
        "        self.fc1 = nn.Linear(input_dim, layer_size)\n",
        "        self.fc2 = nn.Linear(layer_size, layer_size)\n",
        "        self.fc3 = nn.Linear(layer_size, layer_size)\n",
        "        self.fc4 = nn.Linear(layer_size, output_dim)\n",
        "\n",
        "        \n",
        "\n",
        "    def forward(self, input_0, input_1, dt, IRK_alpha, IRK_beta):\n",
        "        u_0 = self.forward_iteration(input_0, dt, IRK_alpha.T, True)\n",
        "        u_1 = self.forward_iteration(input_1, dt, (IRK_beta-IRK_alpha).T, False)\n",
        "        return u_0, u_1\n",
        "\n",
        "\n",
        "\n",
        "    def forward_iteration(self, x, dt, IRK_weights, flag_u0):\n",
        "        x.requires_grad_(True)\n",
        "\n",
        "        s = nn.Tanh()(self.fc1(x.float()))\n",
        "        s = nn.Tanh()(self.fc2(s))\n",
        "        s = nn.Tanh()(self.fc3(s))\n",
        "        u = self.fc4(s)\n",
        "        u_x = self.fwd_gradients(u, x)\n",
        "        u_xx = self.fwd_gradients(u_x, x)\n",
        "        f = - self.lambda_1*u*u_x + self.lambda_2*u_xx\n",
        "        \n",
        "        if flag_u0:\n",
        "            u_ = u - dt * torch.mm(f.double(), IRK_weights.double())\n",
        "        else: #flag_u1\n",
        "            u_ = u + dt * torch.mm(f.double(), IRK_weights.double())\n",
        "\n",
        "        return u_\n",
        "\n",
        "\n",
        "    def fwd_gradients(self, U, x):\n",
        "        z = torch.ones(U.shape).to(device).requires_grad_(True)\n",
        "        g = autograd.grad(U, x, grad_outputs=z, create_graph=True)[0]\n",
        "        return autograd.grad(g, z, grad_outputs=torch.ones(g.shape).to(device), create_graph=True)[0]"
      ],
      "execution_count": 5,
      "outputs": []
    },
    {
      "cell_type": "markdown",
      "metadata": {
        "id": "teTTflqiSFBB"
      },
      "source": [
        "# **OPTIMIZATION**"
      ]
    },
    {
      "cell_type": "code",
      "metadata": {
        "id": "t78d2W1oSHyk"
      },
      "source": [
        "from torch.optim import LBFGS\n",
        "from time import time\n",
        "from tqdm.notebook import tqdm as tqdm"
      ],
      "execution_count": 6,
      "outputs": []
    },
    {
      "cell_type": "code",
      "metadata": {
        "id": "TaJWr7CBSaTV"
      },
      "source": [
        "class Train():\n",
        "    def __init__(self, network, input_0, target_0, input_1, target_1, dt, q):\n",
        "        self.net = network\n",
        "\n",
        "        self.lbfgs_optim = LBFGS(self.net.parameters(), lr=1, max_iter=50000, line_search_fn='strong_wolfe')\n",
        "\n",
        "        tmp = np.float32(np.loadtxt('/content/drive/My Drive/ETH/Private/Bachelor Thesis/Code/Paper 2/Utilities/IRK_weights/Butcher_IRK%d.txt' % (q), ndmin = 2))\n",
        "        weights = torch.from_numpy(np.reshape(tmp[0:q**2+q], (q+1, q)))\n",
        "        self.IRK_alpha = weights[0:-1, :].to(device)\n",
        "        self.IRK_beta = weights[-1:, :].to(device)\n",
        "        self.IRK_times = torch.from_numpy(tmp[q**2+q:]).to(device)\n",
        "\n",
        "        self.train_input_0, self.train_target_0,  = input_0.to(device), target_0.to(device)\n",
        "\n",
        "        self.train_input_1, self.train_target_1 = input_1.to(device), target_1.to(device)\n",
        "    \n",
        "        self.dt = torch.tensor(dt).to(device)\n",
        "        \n",
        "\n",
        "\n",
        "\n",
        "    def train(self): \n",
        "        start_time = time()\n",
        "\n",
        "        self.train_iteration(self.train_input_0, self.train_target_0, self.train_input_1, self.train_target_1)\n",
        "\n",
        "        end_time = time()\n",
        "        print('Time:', end_time - start_time)     \n",
        "\n",
        "\n",
        "\n",
        "    def train_iteration(self, input_0, target_0, input_1, target_1):\n",
        "        \n",
        "        def closure(): \n",
        "            if torch.is_grad_enabled():\n",
        "                self.lbfgs_optim.zero_grad()\n",
        "            predict_0, predict_1 = self.net(input_0, input_1, self.dt, self.IRK_alpha, self.IRK_beta)\n",
        "            loss = self.loss_function(predict_0, target_0, predict_1, target_1)\n",
        "            if loss.requires_grad:\n",
        "                loss.backward()\n",
        "            return loss\n",
        "        self.lbfgs_optim.step(closure)\n",
        "\n",
        "\n",
        "\n",
        "    def loss_function(self, predict_0, target_0, predict_1, target_1): #correct\n",
        "        loss = torch.sum(torch.square(predict_0 - target_0)) + torch.sum(torch.square(predict_1 - target_1))\n",
        "        return loss\n"
      ],
      "execution_count": 7,
      "outputs": []
    },
    {
      "cell_type": "markdown",
      "metadata": {
        "id": "-70mDY_CAyRd"
      },
      "source": [
        "# **MAIN**\n"
      ]
    },
    {
      "cell_type": "markdown",
      "metadata": {
        "id": "huejQW71ywhO"
      },
      "source": [
        "## DATA PREPERATION"
      ]
    },
    {
      "cell_type": "code",
      "metadata": {
        "id": "9MzDySUNA132"
      },
      "source": [
        "import scipy.io"
      ],
      "execution_count": 8,
      "outputs": []
    },
    {
      "cell_type": "markdown",
      "metadata": {
        "id": "xPVicEkoBVGo"
      },
      "source": [
        "COLLECTING THE DATA"
      ]
    },
    {
      "cell_type": "code",
      "metadata": {
        "id": "wBQ47vBQBKsq"
      },
      "source": [
        "data = scipy.io.loadmat('/content/drive/My Drive/ETH/Private/Bachelor Thesis/Code/Paper 2/appendix/Data/burgers_shock.mat')\n",
        "\n",
        "t_data = data['t']  # SHAPE (100, 1)\n",
        "x_data = data['x']  # SHAPE (256,1)\n",
        "u_data = np.real(data['usol']).T  # SHAPE (100, 256)\n",
        "\n",
        "lb = np.array([-1.0])\n",
        "ub = np.array([1.0])\n",
        "N0 = 199\n",
        "N1 = 201 #number of x data points"
      ],
      "execution_count": 9,
      "outputs": []
    },
    {
      "cell_type": "code",
      "metadata": {
        "id": "ftU2ZajqyjIV",
        "colab": {
          "base_uri": "https://localhost:8080/"
        },
        "outputId": "46264d24-377e-4936-daf6-318f57b38a07"
      },
      "source": [
        "idx_x0 = np.random.choice(u_data.shape[1], N0, replace=False) \n",
        "idx_t0 = 10\n",
        "\n",
        "x_0 = x_data[idx_x0, :]\n",
        "x_0 = torch.from_numpy(x_0)#.view(-1, 1)\n",
        "\n",
        "u_0 = u_data[idx_t0, idx_x0].T\n",
        "u_0 = torch.from_numpy(u_0).view(-1, 1)\n",
        "print('0 INPUT SHAPE:', x_0.shape)\n",
        "print('0 TARGET SHAPE:', u_0.shape)\n"
      ],
      "execution_count": 10,
      "outputs": [
        {
          "output_type": "stream",
          "name": "stdout",
          "text": [
            "0 INPUT SHAPE: torch.Size([199, 1])\n",
            "0 TARGET SHAPE: torch.Size([199, 1])\n"
          ]
        }
      ]
    },
    {
      "cell_type": "code",
      "metadata": {
        "id": "Qm0-vOhX_Alf",
        "colab": {
          "base_uri": "https://localhost:8080/"
        },
        "outputId": "dc8f0bdf-9f5d-4ef4-ae4b-0ff2b78992cb"
      },
      "source": [
        "idx_x1 = np.random.choice(u_data.shape[1], N1, replace=False) \n",
        "idx_t1 = 90\n",
        "\n",
        "x_1 = x_data[idx_x1, :]\n",
        "x_1 = torch.from_numpy(x_1)\n",
        "\n",
        "u_1 = u_data[idx_t1, idx_x1].T\n",
        "u_1 = torch.from_numpy(u_1).view(-1, 1)\n",
        "print('1 INPUT SHAPE:', x_1.shape)\n",
        "print('1 TARGET SHAPE:', u_1.shape)\n",
        "\n",
        "dt = t_data[idx_t1] - t_data[idx_t0]\n",
        "print('dt:', dt.item())"
      ],
      "execution_count": 11,
      "outputs": [
        {
          "output_type": "stream",
          "name": "stdout",
          "text": [
            "1 INPUT SHAPE: torch.Size([201, 1])\n",
            "1 TARGET SHAPE: torch.Size([201, 1])\n",
            "dt: 0.8\n"
          ]
        }
      ]
    },
    {
      "cell_type": "markdown",
      "metadata": {
        "id": "uXdPaKLP3zdk"
      },
      "source": [
        "## TRAINING"
      ]
    },
    {
      "cell_type": "markdown",
      "metadata": {
        "id": "zTWHRZHg4F0o"
      },
      "source": [
        "INITIALIZE NETWORK"
      ]
    },
    {
      "cell_type": "code",
      "metadata": {
        "id": "0PoaulQu3vcK",
        "colab": {
          "base_uri": "https://localhost:8080/"
        },
        "outputId": "7ed6e2e5-d16d-4165-8efd-3aa5f0e8f67c"
      },
      "source": [
        "q = int(np.ceil(0.5*np.log(np.finfo(float).eps)/np.log(dt)))\n",
        "input_dim, output_dim, layer_size = 1, q, 100\n",
        "net = PINN(input_dim, output_dim, layer_size).to(device)\n",
        "print('q:', q)"
      ],
      "execution_count": 12,
      "outputs": [
        {
          "output_type": "stream",
          "name": "stdout",
          "text": [
            "q: 81\n"
          ]
        }
      ]
    },
    {
      "cell_type": "markdown",
      "metadata": {
        "id": "reqmFvCM81Ee"
      },
      "source": [
        "TRAINING NETWORK"
      ]
    },
    {
      "cell_type": "code",
      "metadata": {
        "id": "xjiHR9islT_f"
      },
      "source": [
        "train = Train(net, x_0.to(device), u_0.to(device), x_1.to(device), u_1.to(device), dt, q)"
      ],
      "execution_count": 13,
      "outputs": []
    },
    {
      "cell_type": "code",
      "metadata": {
        "id": "HLaDmNYqmrrc",
        "colab": {
          "base_uri": "https://localhost:8080/"
        },
        "outputId": "2f196b77-fcc0-49be-9bf8-668a432423af"
      },
      "source": [
        "train.train()"
      ],
      "execution_count": 14,
      "outputs": [
        {
          "output_type": "stream",
          "name": "stdout",
          "text": [
            "Time: 363.1729054450989\n"
          ]
        }
      ]
    },
    {
      "cell_type": "markdown",
      "metadata": {
        "id": "p74P_4EUBwJ0"
      },
      "source": [
        "## PLOTTING"
      ]
    },
    {
      "cell_type": "code",
      "metadata": {
        "id": "szwo5Ln4P2fp"
      },
      "source": [
        "u0_pred, u1_pred = net.forward(x_0.to(device), x_1.to(device), train.dt, train.IRK_alpha, train.IRK_beta)"
      ],
      "execution_count": 15,
      "outputs": []
    },
    {
      "cell_type": "code",
      "metadata": {
        "id": "2PnxxeKM8TMc"
      },
      "source": [
        "import matplotlib.pyplot as plt\n",
        "import matplotlib.gridspec as gridspec"
      ],
      "execution_count": 16,
      "outputs": []
    },
    {
      "cell_type": "code",
      "metadata": {
        "id": "166W0HLl5lL0"
      },
      "source": [
        "def plot_grid(u_plot, t_data, X_grid, T_grid, string_title, t_index_low=None, t_index_high=None):\n",
        "    fig = plt.subplots(figsize=(8, 4))\n",
        "    plt.contourf(T_grid, X_grid, u_plot, 1000, cmap=plt.get_cmap('Spectral'))\n",
        "    plt.colorbar()\n",
        "    plt.ylabel(r'$x$')\n",
        "    plt.xlabel(r'$t$')\n",
        "    plt.title(string_title, fontsize = 15) \n",
        "\n",
        "    try:\n",
        "        line = np.linspace(x_data.min(), x_data.max(), 2)[:,None]\n",
        "        fig[1].plot(t_data[t_index_low]*np.ones((2,1)), line, 'k--', linewidth = 1)\n",
        "        fig[1].plot(t_data[t_index_high]*np.ones((2,1)), line, 'k--', linewidth = 1)\n",
        "    except Exception:\n",
        "        pass    \n",
        "    \n",
        "\n",
        "    plt.show()\n",
        "    plt.draw()\n",
        "    #fig[0].savefig('/content/drive/My Drive/ETH/Private/Bachelor Thesis/Images/Burgers_Discrete_Identification/' + string_title.format(1000), bbox_inches='tight')\n",
        "    plt.close()\n",
        "\n",
        "def plot_time_step(x_data, x_input, t_data, u_data, u_pred, t_index, x_lb, x_ub, y_lb, y_ub):\n",
        "    fig = plt.subplots(figsize=(2.6,2.6))\n",
        "    fig[1].plot(x_data, u_data[t_index,:].T, 'b-', linewidth = 2, label = 'Exact') \n",
        "    fig[1].plot(x_input, u_pred[: ,-1].cpu().detach().numpy(), 'rx', linewidth = 2, label = 'Prediciton')      \n",
        "    fig[1].set_xlabel('$x$')\n",
        "    fig[1].set_ylabel('$u(t,x)$')    \n",
        "    fig[1].set_title('$t = %.2f$' % (t_data[t_index]), fontsize = 15)\n",
        "    fig[1].set_xlim([x_lb, x_ub])\n",
        "    fig[1].set_ylim([y_lb, y_ub])\n",
        "    fig[1].legend(loc='upper center', bbox_to_anchor=(0.5, -0.25), ncol=5, frameon=False)\n",
        "    plt.show()\n",
        "    #fig[1].figure.savefig('/content/drive/My Drive/ETH/Private/Bachelor Thesis/Images/Burgers_Discrete_Identification/target_v_pred_t%.2f' % t_data[t_index].item() + 'testtesttesttest.png', bbox_inches='tight')"
      ],
      "execution_count": 17,
      "outputs": []
    },
    {
      "cell_type": "code",
      "metadata": {
        "id": "uKN2Z0585dEr",
        "colab": {
          "base_uri": "https://localhost:8080/",
          "height": 316
        },
        "outputId": "e3b09b47-d22a-42f3-dcb2-854b2fdf80b2"
      },
      "source": [
        "X, T = np.meshgrid(x_data, t_data)\n",
        "plot_grid(u_data, t_data, X, T, 'u(t,x)', idx_t0, idx_t1)"
      ],
      "execution_count": 18,
      "outputs": [
        {
          "output_type": "stream",
          "name": "stderr",
          "text": [
            "Locator attempting to generate 1001 ticks ([-1.0, ..., 1.0]), which exceeds Locator.MAXTICKS (1000).\n"
          ]
        },
        {
          "output_type": "display_data",
          "data": {
            "image/png": "[encoded data removed]",
            "text/plain": [
              "<Figure size 576x288 with 2 Axes>"
            ]
          },
          "metadata": {
            "needs_background": "light"
          }
        }
      ]
    },
    {
      "cell_type": "code",
      "metadata": {
        "id": "o4JV63G_x98B",
        "colab": {
          "base_uri": "https://localhost:8080/",
          "height": 483
        },
        "outputId": "b00ee18e-bbf9-42bf-93b6-caf8c7c8665b"
      },
      "source": [
        "plot_time_step(x_data, x_0.cpu().detach().numpy(), t_data, u_data, u0_pred, idx_t0, x_data.min(), x_data.max(), u_data.min()*1.05, u_data.max()*1.05)\n",
        "plot_time_step(x_data, x_1.cpu().detach().numpy(), t_data, u_data, u1_pred, idx_t1, x_data.min(), x_data.max(), u_data.min()*1.05, u_data.max()*1.05)"
      ],
      "execution_count": 19,
      "outputs": [
        {
          "output_type": "display_data",
          "data": {
            "image/png": "[encoded data removed]",
            "text/plain": [
              "<Figure size 187.2x187.2 with 1 Axes>"
            ]
          },
          "metadata": {
            "needs_background": "light"
          }
        },
        {
          "output_type": "display_data",
          "data": {
            "image/png": "[encoded data removed]",
            "text/plain": [
              "<Figure size 187.2x187.2 with 1 Axes>"
            ]
          },
          "metadata": {
            "needs_background": "light"
          }
        }
      ]
    },
    {
      "cell_type": "markdown",
      "metadata": {
        "id": "PZ7i9fzgBO_h"
      },
      "source": [
        "## SOLUTION"
      ]
    },
    {
      "cell_type": "code",
      "metadata": {
        "id": "zwn06JcJ9v7B",
        "colab": {
          "base_uri": "https://localhost:8080/"
        },
        "outputId": "3fe40ee7-29a0-4ee1-8810-1145f9457962"
      },
      "source": [
        "print('TARGET LAMBDA 1:', 1.,'\\nTARGET LAMBDA 2', '%.6f' % (0.01/np.pi))\n",
        "print('\\nPREDICTED LAMBDA 1:', net.lambda_1.item(), '\\nPREDICTED LAMBDA 2:', net.lambda_2.item(), '=', net.lambda_2.item() * np.pi, '/ pi')\n",
        "\n",
        "print('\\nLAMBDA 1 ABSOLUTE ERROR:', np.abs((net.lambda_1.item() - 1)))\n",
        "print('LAMBDA 2 ABSOLUTE ERROR:', np.abs((net.lambda_2.item() - 0.01/np.pi) ))\n",
        "\n",
        "print('\\nLAMBDA 1 RELATIVE ERROR:', np.abs((net.lambda_1.item() - 1)/1))\n",
        "print('LAMBDA 2 RELATIVE ERROR:', np.abs((net.lambda_2.item() - 0.01/np.pi) /(0.01/np.pi)))"
      ],
      "execution_count": 20,
      "outputs": [
        {
          "output_type": "stream",
          "name": "stdout",
          "text": [
            "TARGET LAMBDA 1: 1.0 \n",
            "TARGET LAMBDA 2 0.003183\n",
            "\n",
            "PREDICTED LAMBDA 1: 0.998324990272522 \n",
            "PREDICTED LAMBDA 2: 0.0036664134822785854 = 0.011518377660948976 / pi\n",
            "\n",
            "LAMBDA 1 ABSOLUTE ERROR: 0.0016750097274780273\n",
            "LAMBDA 2 ABSOLUTE ERROR: 0.0004833146204406783\n",
            "\n",
            "LAMBDA 1 RELATIVE ERROR: 0.0016750097274780273\n",
            "LAMBDA 2 RELATIVE ERROR: 0.1518377660948974\n"
          ]
        }
      ]
    },
    {
      "cell_type": "code",
      "metadata": {
        "id": "2fnUaWe3x8hV",
        "colab": {
          "base_uri": "https://localhost:8080/"
        },
        "outputId": "3ad3d2aa-bdcd-4c4e-d215-2d282bea07c6"
      },
      "source": [
        "criterion = nn.MSELoss()\n",
        "Error = criterion(u0_pred[:, -1].view(-1, 1).cpu(), u_0) + criterion( u1_pred[:, -1].view(-1, 1).cpu(), u_1)\n",
        "\n",
        "print('L2 Norm Error:', Error.item())\n",
        "\n",
        "Error_relative = Error / (torch.mean(torch.abs(u_0)) + torch.mean(torch.abs(u_1)))\n",
        "print('Relative L2 Norm Error:', Error_relative.item())"
      ],
      "execution_count": 21,
      "outputs": [
        {
          "output_type": "stream",
          "name": "stdout",
          "text": [
            "L2 Norm Error: 4.2679053209780995e-06\n",
            "Relative L2 Norm Error: 4.17212961323647e-06\n"
          ]
        }
      ]
    }
  ]
}