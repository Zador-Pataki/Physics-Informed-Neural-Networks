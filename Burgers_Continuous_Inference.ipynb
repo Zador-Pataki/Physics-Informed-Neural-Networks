{
  "nbformat": 4,
  "nbformat_minor": 0,
  "metadata": {
    "colab": {
      "name": "Burgers_Continuous_Inference.ipynb",
      "provenance": [],
      "machine_shape": "hm"
    },
    "kernelspec": {
      "name": "python3",
      "display_name": "Python 3"
    },
    "accelerator": "GPU"
  },
  "cells": [
    {
      "cell_type": "code",
      "metadata": {
        "id": "nzRqrB2tCPJy"
      },
      "source": [
        "import torch \n",
        "import numpy as np"
      ],
      "execution_count": 1,
      "outputs": []
    },
    {
      "cell_type": "code",
      "metadata": {
        "id": "pRSwnHfqCgbC",
        "colab": {
          "base_uri": "https://localhost:8080/"
        },
        "outputId": "3e33c067-4228-44ed-f4f6-5a652d0a4343"
      },
      "source": [
        "np.random.seed(1234)\n",
        "torch.manual_seed(1234)"
      ],
      "execution_count": 2,
      "outputs": [
        {
          "output_type": "execute_result",
          "data": {
            "text/plain": [
              "<torch._C.Generator at 0x7f71a5c84c90>"
            ]
          },
          "metadata": {},
          "execution_count": 2
        }
      ]
    },
    {
      "cell_type": "code",
      "metadata": {
        "id": "qAauKoFANT9d",
        "colab": {
          "base_uri": "https://localhost:8080/"
        },
        "outputId": "f230e60c-f439-4ada-cb48-cbd9b16a7725"
      },
      "source": [
        "if torch.cuda.is_available():\n",
        "    device = torch.device(\"cuda:0\") \n",
        "    print(\"Running on the GPU\")\n",
        "else:\n",
        "    device = torch.device(\"cpu\")\n",
        "    print(\"Running on the CPU\")"
      ],
      "execution_count": 3,
      "outputs": [
        {
          "output_type": "stream",
          "name": "stdout",
          "text": [
            "Running on the GPU\n"
          ]
        }
      ]
    },
    {
      "cell_type": "markdown",
      "metadata": {
        "id": "aVzQS6uk_bpk"
      },
      "source": [
        "# **NEURAL NETWORK**"
      ]
    },
    {
      "cell_type": "code",
      "metadata": {
        "id": "10lIzpgQ_43-"
      },
      "source": [
        "import torch.nn as nn\n",
        "import torch.nn.functional as F\n",
        "from torch import autograd"
      ],
      "execution_count": 4,
      "outputs": []
    },
    {
      "cell_type": "code",
      "metadata": {
        "id": "WmTWsvKS_f69"
      },
      "source": [
        "class PINN(nn.Module):\n",
        "    def __init__(self, input_dim, output_dim, layer_size):\n",
        "      super(PINN, self).__init__()\n",
        "\n",
        "      self.fc1 = nn.Linear(input_dim, layer_size)\n",
        "      self.fc2 = nn.Linear(layer_size, layer_size)\n",
        "      self.fc3 = nn.Linear(layer_size, layer_size)\n",
        "      self.fc4 = nn.Linear(layer_size, output_dim)\n",
        "\n",
        "\n",
        "\n",
        "    def forward(self, input_grid, input_0, input_lb, input_ub):\n",
        "      _, f_predict = self.forward_it(input_grid.float())\n",
        "      predict_0, _ = self.forward_it(input_0.float())\n",
        "      predict_lb, _ = self.forward_it(input_lb.float())\n",
        "      ub_predict, _ = self.forward_it(input_ub.float())\n",
        "      return f_predict, predict_0, predict_lb, ub_predict\n",
        "\n",
        "\n",
        "\n",
        "    def forward_it(self, X):\n",
        "      batch_size = X.shape[0]\n",
        "      x, t = X[:, :1], X[:, 1:]\n",
        "      x.requires_grad_(True)\n",
        "      t.requires_grad_(True)\n",
        "\n",
        "      s = nn.Tanh()(self.fc1(torch.cat((x, t), 1)))\n",
        "      s = nn.Tanh()(self.fc2(s))\n",
        "      s = nn.Tanh()(self.fc3(s))\n",
        "      u = self.fc4(s)\n",
        "      u_t = autograd.grad(u, t, torch.ones((batch_size, 1)).to(device), create_graph=True)[0]\n",
        "      u_x = autograd.grad(u, x, torch.ones((batch_size, 1)).to(device), create_graph=True)[0]\n",
        "      u_xx = autograd.grad(u_x, x, torch.ones((batch_size, 1)).to(device), create_graph=True)[0]\n",
        "\n",
        "      f = u_t + u * u_x - (0.01 / np.pi) * u_xx\n",
        "\n",
        "      return u, f\n",
        "    \n",
        "\n",
        "\n",
        "    def predict(self, X):\n",
        "      s = nn.Tanh()(self.fc1(X))\n",
        "      s = nn.Tanh()(self.fc2(s))\n",
        "      s = nn.Tanh()(self.fc3(s))\n",
        "      u = self.fc4(s)\n",
        "      return u"
      ],
      "execution_count": 5,
      "outputs": []
    },
    {
      "cell_type": "markdown",
      "metadata": {
        "id": "teTTflqiSFBB"
      },
      "source": [
        "# **OPTIMIZATION**"
      ]
    },
    {
      "cell_type": "code",
      "metadata": {
        "id": "t78d2W1oSHyk"
      },
      "source": [
        "from torch.optim import LBFGS\n",
        "from time import time\n",
        "from tqdm.notebook import tqdm as tqdm"
      ],
      "execution_count": 6,
      "outputs": []
    },
    {
      "cell_type": "code",
      "metadata": {
        "id": "TaJWr7CBSaTV"
      },
      "source": [
        "class Train():\n",
        "    def __init__(self, network, grid_input, input_0, target_0, l_boundary_input, l_boundary_target, u_boundary_input, u_boundary_target):\n",
        "        self.net = network\n",
        "\n",
        "        self.lbfgs_optim = LBFGS(self.net.parameters(), lr=1, max_iter=50000, line_search_fn='strong_wolfe')\n",
        "\n",
        "        self.train_input_grid = grid_input \n",
        "        self.train_input_0, self.train_target_0 = input_0, target_0\n",
        "        self.train_input_lb, self.train_target_lb = l_boundary_input, l_boundary_target\n",
        "        self.train_input_ub, self.train_target_ub = u_boundary_input, u_boundary_target\n",
        "\n",
        "\n",
        "    def train(self):\n",
        "        start_time = time()\n",
        "        \n",
        "        self.train_iteration(self.train_input_grid, self.train_input_0, self.train_target_0, self.train_input_lb, self.train_target_lb, self.train_input_ub, self.train_target_ub)\n",
        "        \n",
        "        end_time = time()\n",
        "        print('Time:', end_time - start_time)     \n",
        "\n",
        "\n",
        "\n",
        "    def train_iteration(self, input_grid, input_0, target_0, input_lb, target_lb, input_ub, target_ub):\n",
        "    \n",
        "        def closure():\n",
        "            if torch.is_grad_enabled():\n",
        "                self.lbfgs_optim.zero_grad()\n",
        "            f_predict, predict_0, predict_lb, predict_ub = self.net(input_grid, input_0, input_lb, input_ub)\n",
        "            loss = self.loss_function(predict_0, target_0, predict_lb, target_lb, predict_ub, target_ub, f_predict)\n",
        "            if loss.requires_grad:\n",
        "                loss.backward()\n",
        "            return loss\n",
        "        self.lbfgs_optim.step(closure)\n",
        "\n",
        "\n",
        "    def loss_function(self, predict_0, target_0, predict_lb, target_lb, predict_ub, target_ub, f_predict):\n",
        "        loss_fn = nn.MSELoss()\n",
        "        loss = loss_fn(predict_0.double(), target_0.double()) + loss_fn(predict_lb.double(), target_lb.double()) + \\\n",
        "            loss_fn(predict_ub.double(), target_ub.double()) + loss_fn(f_predict.double(), torch.zeros((f_predict.shape[0], 1)).double().to(device))\n",
        "        return loss\n"
      ],
      "execution_count": 7,
      "outputs": []
    },
    {
      "cell_type": "markdown",
      "metadata": {
        "id": "-70mDY_CAyRd"
      },
      "source": [
        "# **MAIN**\n"
      ]
    },
    {
      "cell_type": "markdown",
      "metadata": {
        "id": "huejQW71ywhO"
      },
      "source": [
        "## DATA PREPERATION"
      ]
    },
    {
      "cell_type": "code",
      "metadata": {
        "id": "9MzDySUNA132"
      },
      "source": [
        "import scipy.io"
      ],
      "execution_count": 8,
      "outputs": []
    },
    {
      "cell_type": "markdown",
      "metadata": {
        "id": "hSdFJTB4BfyF"
      },
      "source": [
        "FUNCTIONS FOR DATA MANAGEMENT"
      ]
    },
    {
      "cell_type": "code",
      "metadata": {
        "id": "9ldj6aWZBpER"
      },
      "source": [
        "def create_passable_data(x, t, u=None):\n",
        "  N_x = x.shape[0]\n",
        "  N_t = t.shape[0]\n",
        "  passable_input = []\n",
        "  passable_target = []\n",
        "\n",
        "  for nt in range(N_t):\n",
        "    for nx in range(N_x):\n",
        "      _t = t[nt, 0]\n",
        "      _x = x[nx, 0]\n",
        "      _passable_input = np.array([_x, _t])[np.newaxis]\n",
        "      passable_input.append(_passable_input)\n",
        "      if u is not None:\n",
        "        _u = u[nt, nx]\n",
        "        _passable_target = np.array(_u)\n",
        "        passable_target.append(_passable_target)\n",
        "  \n",
        "  passable_input = np.array(passable_input)\n",
        "  passable_input = torch.tensor(passable_input).view(N_t * N_x, 2)\n",
        "\n",
        "  if u is not None:\n",
        "    passable_target = np.array(passable_target)\n",
        "    passable_target = torch.tensor(passable_target).view(N_t * N_x, 1)\n",
        "\n",
        "  return passable_input, passable_target"
      ],
      "execution_count": 9,
      "outputs": []
    },
    {
      "cell_type": "markdown",
      "metadata": {
        "id": "xPVicEkoBVGo"
      },
      "source": [
        "COLLECTING THE DATA"
      ]
    },
    {
      "cell_type": "code",
      "metadata": {
        "id": "wBQ47vBQBKsq"
      },
      "source": [
        "data = scipy.io.loadmat('/content/drive/My Drive/ETH/Private/Bachelor Thesis/Code/Paper 2/appendix/Data/burgers_shock.mat')\n",
        "\n",
        "t_data = data['t']  # SHAPE (100, 1)\n",
        "x_data = data['x']  # SHAPE (256,1)\n",
        "u_data = np.real(data['usol']).T  # SHAPE (100, 256)\n",
        "\n",
        "lb = np.array([-1, 0.0]) # (spacial lower bound, time lower bound)\n",
        "ub = np.array([1, 1]) # (spacial upper bound, time upper bound)"
      ],
      "execution_count": 10,
      "outputs": []
    },
    {
      "cell_type": "code",
      "metadata": {
        "id": "3kCwluJVafa8",
        "colab": {
          "base_uri": "https://localhost:8080/"
        },
        "outputId": "4ff3a64c-d84f-42c0-bd8e-740a8ef9b02b"
      },
      "source": [
        "grid_input, grid_target = create_passable_data(x_data, t_data, u_data)\n",
        "print('GRID:', grid_input.shape)\n",
        "l_boundary_input, l_boundary_target = create_passable_data(lb[0][np.newaxis][np.newaxis], t_data, u_data)\n",
        "print('L BOUNDARY:', l_boundary_input.shape, l_boundary_target.shape)\n",
        "u_boundary_input, u_boundary_target = create_passable_data(ub[0][np.newaxis][np.newaxis], t_data, u_data)\n",
        "print('U BOUNDARY:', u_boundary_input.shape, u_boundary_target.shape)\n",
        "input_0, target_0 = create_passable_data(x_data, lb[1][np.newaxis][np.newaxis], u_data)\n",
        "print('INIT', input_0.shape, target_0.shape)"
      ],
      "execution_count": 11,
      "outputs": [
        {
          "output_type": "stream",
          "name": "stdout",
          "text": [
            "GRID: torch.Size([25600, 2])\n",
            "L BOUNDARY: torch.Size([100, 2]) torch.Size([100, 1])\n",
            "U BOUNDARY: torch.Size([100, 2]) torch.Size([100, 1])\n",
            "INIT torch.Size([256, 2]) torch.Size([256, 1])\n"
          ]
        }
      ]
    },
    {
      "cell_type": "code",
      "metadata": {
        "id": "g99kXjcy02y3"
      },
      "source": [
        "idx = np.arange(u_boundary_input.shape[0])\n",
        "temp = np.random.permutation(idx)[:50]\n",
        "u_boundary_input, u_boundary_target = u_boundary_input[temp, :].view(-1, 2), u_boundary_target[temp, :].view(-1, 1)\n",
        "temp = np.random.permutation(idx)[:50]\n",
        "l_boundary_input, l_boundary_target = l_boundary_input[temp, :].view(-1, 2), l_boundary_target[temp, :].view(-1, 1)\n",
        "\n",
        "idx = np.arange(input_0.shape[0])\n",
        "temp = np.random.permutation(idx)[:50]\n",
        "input_0, target_0 = input_0[temp, :].view(-1, 2), target_0[temp, :].view(-1, 1)"
      ],
      "execution_count": 12,
      "outputs": []
    },
    {
      "cell_type": "code",
      "metadata": {
        "id": "COKEMI7p5YtD",
        "colab": {
          "base_uri": "https://localhost:8080/"
        },
        "outputId": "9e398ded-c19e-4558-d661-f85825072e60"
      },
      "source": [
        "print('L BOUNDARY:', l_boundary_input.shape, l_boundary_target.shape)\n",
        "print('U BOUNDARY:', u_boundary_input.shape, u_boundary_target.shape)\n",
        "print('INITIAL BOUNDARY:', input_0.shape, target_0.shape)"
      ],
      "execution_count": 13,
      "outputs": [
        {
          "output_type": "stream",
          "name": "stdout",
          "text": [
            "L BOUNDARY: torch.Size([50, 2]) torch.Size([50, 1])\n",
            "U BOUNDARY: torch.Size([50, 2]) torch.Size([50, 1])\n",
            "INITIAL BOUNDARY: torch.Size([50, 2]) torch.Size([50, 1])\n"
          ]
        }
      ]
    },
    {
      "cell_type": "markdown",
      "metadata": {
        "id": "uXdPaKLP3zdk"
      },
      "source": [
        "## TRAINING"
      ]
    },
    {
      "cell_type": "markdown",
      "metadata": {
        "id": "zTWHRZHg4F0o"
      },
      "source": [
        "INITIALIZE NETWORK"
      ]
    },
    {
      "cell_type": "code",
      "metadata": {
        "id": "0PoaulQu3vcK"
      },
      "source": [
        "input_dim, output_dim, layer_size = 2, 1, 100\n",
        "net = PINN(input_dim, output_dim, layer_size).to(device)"
      ],
      "execution_count": 14,
      "outputs": []
    },
    {
      "cell_type": "markdown",
      "metadata": {
        "id": "reqmFvCM81Ee"
      },
      "source": [
        "TRAINING NETWORK"
      ]
    },
    {
      "cell_type": "code",
      "metadata": {
        "id": "xjiHR9islT_f"
      },
      "source": [
        "train = Train(net, grid_input.to(device), input_0.to(device), target_0.to(device), l_boundary_input.to(device), l_boundary_target.to(device), u_boundary_input.to(device), u_boundary_target.to(device))"
      ],
      "execution_count": 15,
      "outputs": []
    },
    {
      "cell_type": "code",
      "metadata": {
        "id": "HLaDmNYqmrrc",
        "colab": {
          "base_uri": "https://localhost:8080/"
        },
        "outputId": "bb898de1-0aef-49f2-d9dc-36e79a737c14"
      },
      "source": [
        "train.train()"
      ],
      "execution_count": 16,
      "outputs": [
        {
          "output_type": "stream",
          "name": "stdout",
          "text": [
            "Time: 843.3568167686462\n"
          ]
        }
      ]
    },
    {
      "cell_type": "markdown",
      "metadata": {
        "id": "p74P_4EUBwJ0"
      },
      "source": [
        "## PLOTTING"
      ]
    },
    {
      "cell_type": "code",
      "metadata": {
        "id": "wqbK0iRJEX9H"
      },
      "source": [
        "import matplotlib.pyplot as plt\n",
        "from matplotlib import cm"
      ],
      "execution_count": 17,
      "outputs": []
    },
    {
      "cell_type": "markdown",
      "metadata": {
        "id": "g_A4fwzE5qZt"
      },
      "source": [
        "PLOTTIG FUNCTIONS"
      ]
    },
    {
      "cell_type": "code",
      "metadata": {
        "id": "166W0HLl5lL0"
      },
      "source": [
        "def plot_grid(u_plot, t_data, X_grid, T_grid, string_title, lb_input=None, ub_input=None, input_0=None, t_index_low=None, t_index_mid=None, t_index_high=None):\n",
        "    fig = plt.subplots(figsize=(8, 4))\n",
        "    plt.contourf(T_grid, X_grid, u_plot, 1000, cmap=plt.get_cmap('Spectral'))\n",
        "    plt.colorbar()\n",
        "    plt.ylabel(r'$x$')\n",
        "    plt.xlabel(r'$t$')\n",
        "    plt.title(string_title, fontsize = 15) \n",
        "\n",
        "    try:\n",
        "        fig[1].set_ylim(x_data.min(), x_data.max())\n",
        "        fig[1].plot(lb_input[:,1], lb_input[:,0], 'kx', label = 'Data (%d points)' % (lb_input.shape[0]), markersize = 6, clip_on = False)\n",
        "        fig[1].plot(ub_input[:,1], ub_input[:,0], 'kx', label = 'Data (%d points)' % (ub_input.shape[0]), markersize = 6, clip_on = False)\n",
        "        fig[1].plot(input_0[:,1], input_0[:,0], 'kx', label = 'Data (%d points)' % (input_0.shape[0]), markersize = 6, clip_on = False)\n",
        "        \n",
        "        \n",
        "        line = np.linspace(x_data.min(), x_data.max(), 2)[:,None]\n",
        "        fig[1].plot(t_data[t_index_low]*np.ones((2,1)), line, 'k--', linewidth = 1)\n",
        "        fig[1].plot(t_data[t_index_mid]*np.ones((2,1)), line, 'k--', linewidth = 1)\n",
        "        fig[1].plot(t_data[t_index_high]*np.ones((2,1)), line, 'k--', linewidth = 1) \n",
        "    except Exception:\n",
        "        pass    \n",
        "    \n",
        "    plt.show()\n",
        "    plt.draw()\n",
        "    #fig[0].savefig('/content/drive/My Drive/ETH/Private/Bachelor Thesis/Images/Burgers_Continuous_Inference/' + string_title.format(1000), bbox_inches='tight')\n",
        "    plt.close()\n",
        "\n",
        "def plot_time_step(x_data, t_data, u_data, u_pred, t_index, x_lb, x_ub, y_lb, y_ub):\n",
        "    fig = plt.subplots(figsize=(2.6,2.6))\n",
        "    fig[1].plot(x_data, u_data[t_index,:], 'b-', linewidth = 2, label = 'Exact')       \n",
        "    fig[1].plot(x_data, u_pred[t_index,:], 'r--', linewidth = 2, label = 'Prediction')\n",
        "    fig[1].set_xlabel('$x$')\n",
        "    fig[1].set_ylabel('$u(t,x)$')  \n",
        "    title = '$t = %.2f' % t_data[t_index].item() + '$'\n",
        "    fig[1].set_title(title, fontsize = 15)\n",
        "    fig[1].set_xlim([x_lb, x_ub])\n",
        "    fig[1].set_ylim([y_lb, y_ub])\n",
        "    fig[1].legend(loc='upper center', bbox_to_anchor=(0.5, -0.25), ncol=5, frameon=False)\n",
        "    plt.show()\n",
        "    #fig[1].figure.savefig('/content/drive/My Drive/ETH/Private/Bachelor Thesis/Images/target_v_pred_t%.2f' % t_data[t_index].item() + '.png', bbox_inches = 'tight')"
      ],
      "execution_count": 18,
      "outputs": []
    },
    {
      "cell_type": "markdown",
      "metadata": {
        "id": "RhaM0xws5Dmc"
      },
      "source": [
        "PLOTTING TARGET DATA"
      ]
    },
    {
      "cell_type": "code",
      "metadata": {
        "id": "UvXsE87tBuSe",
        "colab": {
          "base_uri": "https://localhost:8080/",
          "height": 316
        },
        "outputId": "e04c78bc-f11e-41ba-82ca-bf28e9439fd1"
      },
      "source": [
        "X, T = np.meshgrid(x_data, t_data)\n",
        "u_target = u_data\n",
        "plot_grid(u_target, t_data, X, T, 'Target: u(t,x)')"
      ],
      "execution_count": 19,
      "outputs": [
        {
          "output_type": "stream",
          "name": "stderr",
          "text": [
            "Locator attempting to generate 1001 ticks ([-1.0, ..., 1.0]), which exceeds Locator.MAXTICKS (1000).\n"
          ]
        },
        {
          "output_type": "display_data",
          "data": {
            "image/png": "[encoded data removed]",
            "text/plain": [
              "<Figure size 576x288 with 2 Axes>"
            ]
          },
          "metadata": {
            "needs_background": "light"
          }
        }
      ]
    },
    {
      "cell_type": "markdown",
      "metadata": {
        "id": "xyejWJl55Glo"
      },
      "source": [
        "PLOTTING PREDICTED DATA"
      ]
    },
    {
      "cell_type": "code",
      "metadata": {
        "id": "1wJxSJwF9I2L"
      },
      "source": [
        "u_predict = net.predict(grid_input.to(device).float())\n",
        "u_plot = u_predict.cpu().view(X.shape).detach().numpy()\n",
        "\n",
        "snapshot_index_low=int(t_data.shape[0]/5)\n",
        "snapshot_index_middle=int(t_data.shape[0]/2)\n",
        "snapshot_index_high=int(4*t_data.shape[0]/5)"
      ],
      "execution_count": 20,
      "outputs": []
    },
    {
      "cell_type": "code",
      "metadata": {
        "id": "IZuL0S4Up3X9",
        "colab": {
          "base_uri": "https://localhost:8080/",
          "height": 299
        },
        "outputId": "ae874085-3dfb-4dcf-980b-63137f5df39e"
      },
      "source": [
        "plot_grid(u_plot, t_data, X, T, 'Predict: u(t,x)', l_boundary_input, u_boundary_input, input_0, snapshot_index_low, snapshot_index_middle, snapshot_index_high)"
      ],
      "execution_count": 21,
      "outputs": [
        {
          "output_type": "display_data",
          "data": {
            "image/png": "[encoded data removed]",
            "text/plain": [
              "<Figure size 576x288 with 2 Axes>"
            ]
          },
          "metadata": {
            "needs_background": "light"
          }
        }
      ]
    },
    {
      "cell_type": "markdown",
      "metadata": {
        "id": "YJXSyOAmrl0A"
      },
      "source": [
        "TARGET VS PREDICT AT SPECIFIC TIME STEPS\n"
      ]
    },
    {
      "cell_type": "code",
      "metadata": {
        "id": "F21edIJbF0EF",
        "colab": {
          "base_uri": "https://localhost:8080/",
          "height": 250
        },
        "outputId": "a639cf27-518d-49f8-d303-f6919251d922"
      },
      "source": [
        "plot_time_step(x_data, t_data, u_target, u_plot, snapshot_index_low, x_data.min(), x_data.max(), u_target.min()*1.05, u_target.max()*1.05)"
      ],
      "execution_count": 22,
      "outputs": [
        {
          "output_type": "display_data",
          "data": {
            "image/png": "[encoded data removed]",
            "text/plain": [
              "<Figure size 187.2x187.2 with 1 Axes>"
            ]
          },
          "metadata": {
            "needs_background": "light"
          }
        }
      ]
    },
    {
      "cell_type": "code",
      "metadata": {
        "id": "ke1YsKV4oMDI",
        "colab": {
          "base_uri": "https://localhost:8080/",
          "height": 250
        },
        "outputId": "afc17303-b855-4703-d679-48e950d5bb1f"
      },
      "source": [
        "plot_time_step(x_data, t_data, u_target, u_plot, snapshot_index_middle, x_data.min(), x_data.max(), u_target.min()*1.05, u_target.max()*1.05)"
      ],
      "execution_count": 23,
      "outputs": [
        {
          "output_type": "display_data",
          "data": {
            "image/png": "[encoded data removed]",
            "text/plain": [
              "<Figure size 187.2x187.2 with 1 Axes>"
            ]
          },
          "metadata": {
            "needs_background": "light"
          }
        }
      ]
    },
    {
      "cell_type": "code",
      "metadata": {
        "id": "62t94_kepqAv",
        "colab": {
          "base_uri": "https://localhost:8080/",
          "height": 250
        },
        "outputId": "d9c6b664-43ac-48aa-ede5-d7af7339b4ad"
      },
      "source": [
        "plot_time_step(x_data, t_data, u_target, u_plot, snapshot_index_high, x_data.min(), x_data.max(), u_target.min()*1.05, u_target.max()*1.05)"
      ],
      "execution_count": 24,
      "outputs": [
        {
          "output_type": "display_data",
          "data": {
            "image/png": "[encoded data removed]",
            "text/plain": [
              "<Figure size 187.2x187.2 with 1 Axes>"
            ]
          },
          "metadata": {
            "needs_background": "light"
          }
        }
      ]
    },
    {
      "cell_type": "markdown",
      "metadata": {
        "id": "bPA-6-QQx9Vt"
      },
      "source": [
        "##ERROR\n"
      ]
    },
    {
      "cell_type": "code",
      "metadata": {
        "id": "2fnUaWe3x8hV",
        "colab": {
          "base_uri": "https://localhost:8080/"
        },
        "outputId": "926d0363-9469-4208-cbdd-ea1909d8b407"
      },
      "source": [
        "criterion = nn.MSELoss()\n",
        "Error = criterion ( u_predict.cpu(), grid_target)\n",
        "\n",
        "print('L2 Norm Error:', Error.item())\n",
        "\n",
        "Error_relative = Error / (torch.mean(torch.abs(grid_target)))\n",
        "print('Relative L2 Norm Error:', Error_relative.item())"
      ],
      "execution_count": 25,
      "outputs": [
        {
          "output_type": "stream",
          "name": "stdout",
          "text": [
            "L2 Norm Error: 0.0008663450177565668\n",
            "Relative L2 Norm Error: 0.0016131431577138767\n"
          ]
        }
      ]
    }
  ]
}