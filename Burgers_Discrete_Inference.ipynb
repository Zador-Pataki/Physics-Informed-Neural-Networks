{
  "nbformat": 4,
  "nbformat_minor": 0,
  "metadata": {
    "colab": {
      "name": "Burgers_Discrete_Inference.ipynb",
      "provenance": [],
      "collapsed_sections": [],
      "machine_shape": "hm"
    },
    "kernelspec": {
      "name": "python3",
      "display_name": "Python 3"
    },
    "accelerator": "GPU"
  },
  "cells": [
    {
      "cell_type": "code",
      "metadata": {
        "id": "nzRqrB2tCPJy"
      },
      "source": [
        "import torch\n",
        "import numpy as np"
      ],
      "execution_count": 1,
      "outputs": []
    },
    {
      "cell_type": "code",
      "metadata": {
        "id": "pRSwnHfqCgbC",
        "outputId": "d409884e-786e-4dbb-b736-d95d24798342",
        "colab": {
          "base_uri": "https://localhost:8080/"
        }
      },
      "source": [
        "np.random.seed(1234)\n",
        "torch.manual_seed(1234)"
      ],
      "execution_count": 2,
      "outputs": [
        {
          "output_type": "execute_result",
          "data": {
            "text/plain": [
              "<torch._C.Generator at 0x7f25166de7d0>"
            ]
          },
          "metadata": {},
          "execution_count": 2
        }
      ]
    },
    {
      "cell_type": "code",
      "metadata": {
        "id": "qAauKoFANT9d",
        "outputId": "de101a8e-64d2-4e15-db30-291a82e25f4a",
        "colab": {
          "base_uri": "https://localhost:8080/"
        }
      },
      "source": [
        "if torch.cuda.is_available():\n",
        "    device = torch.device(\"cuda:0\") \n",
        "    print(\"Running on the GPU\")\n",
        "else:\n",
        "    device = torch.device(\"cpu\")\n",
        "    print(\"Running on the CPU\")"
      ],
      "execution_count": 3,
      "outputs": [
        {
          "output_type": "stream",
          "name": "stdout",
          "text": [
            "Running on the GPU\n"
          ]
        }
      ]
    },
    {
      "cell_type": "markdown",
      "metadata": {
        "id": "aVzQS6uk_bpk"
      },
      "source": [
        "# **NEURAL NETWORK**"
      ]
    },
    {
      "cell_type": "code",
      "metadata": {
        "id": "10lIzpgQ_43-"
      },
      "source": [
        "import torch.nn as nn\n",
        "import torch.nn.functional as F\n",
        "from torch import autograd"
      ],
      "execution_count": 4,
      "outputs": []
    },
    {
      "cell_type": "code",
      "metadata": {
        "id": "WmTWsvKS_f69"
      },
      "source": [
        "class PINN(nn.Module):\n",
        "    def __init__(self, input_dim, output_dim, layer_size):\n",
        "        super(PINN, self).__init__()\n",
        "\n",
        "        self.fc1 = nn.Linear(input_dim, layer_size)\n",
        "        self.fc2 = nn.Linear(layer_size, layer_size)\n",
        "        self.fc3 = nn.Linear(layer_size, layer_size)\n",
        "        self.fc4 = nn.Linear(layer_size, output_dim)\n",
        "\n",
        "\n",
        "    def forward(self, input_0, input_boundary, dt, IRK_weights):\n",
        "        u_0, _ = self.forward_iteration(input_0, dt, IRK_weights, True)\n",
        "        _, u_1 = self.forward_iteration(input_boundary)\n",
        "        return u_0, u_1\n",
        "\n",
        "\n",
        "    def forward_iteration(self, x, dt=None, IRK_weights=None, pred_0_flag=False):\n",
        "        u_0=None\n",
        "        \n",
        "        x.requires_grad_(True)\n",
        "\n",
        "        s = nn.Tanh()(self.fc1(x.float()))\n",
        "        s = nn.Tanh()(self.fc2(s))\n",
        "        s = nn.Tanh()(self.fc3(s))\n",
        "        u_1 = self.fc4(s)\n",
        "\n",
        "        if pred_0_flag:\n",
        "            u = u_1[:, :-1]\n",
        "            u_x = self.fwd_gradients_0(u, x)\n",
        "            u_xx = self.fwd_gradients_0(u_x, x)\n",
        "            f = - u * u_x + (0.01/np.pi)*u_xx\n",
        "            u_0 = u_1 - dt * torch.mm(f.double(), IRK_weights.double())\n",
        "            u_1=None\n",
        "\n",
        "        return u_0, u_1\n",
        "\n",
        "\n",
        "    def fwd_gradients_0(self, U, x):\n",
        "        z = torch.ones(U.shape).to(device).requires_grad_(True)\n",
        "        g = autograd.grad(U, x, grad_outputs=z, create_graph=True)[0]\n",
        "        return autograd.grad(g, z, grad_outputs=torch.ones(g.shape).to(device), create_graph=True)[0]\n",
        "    \n",
        "\n",
        "    def predict(self, x):\n",
        "        s = nn.Tanh()(self.fc1(x.float()))\n",
        "        s = nn.Tanh()(self.fc2(s))\n",
        "        s = nn.Tanh()(self.fc3(s))\n",
        "        u = self.fc4(s)\n",
        "        return u"
      ],
      "execution_count": 5,
      "outputs": []
    },
    {
      "cell_type": "markdown",
      "metadata": {
        "id": "teTTflqiSFBB"
      },
      "source": [
        "# **OPTIMIZATION**"
      ]
    },
    {
      "cell_type": "code",
      "metadata": {
        "id": "t78d2W1oSHyk"
      },
      "source": [
        "from torch.optim import LBFGS\n",
        "from time import time\n",
        "from tqdm.notebook import tqdm as tqdm"
      ],
      "execution_count": 6,
      "outputs": []
    },
    {
      "cell_type": "code",
      "metadata": {
        "id": "TaJWr7CBSaTV"
      },
      "source": [
        "class Train():\n",
        "    def __init__(self, network, input_0, target_0, input_boundary, dt, q):\n",
        "        self.net = network\n",
        "\n",
        "        self.lbfgs_optim = LBFGS(self.net.parameters(), lr=1, max_iter=50000, line_search_fn='strong_wolfe')\n",
        "\n",
        "        tmp = np.float32(np.loadtxt('/content/drive/My Drive/ETH/Private/Bachelor Thesis/Code/Paper 2/Utilities/IRK_weights/Butcher_IRK%d.txt' % (q), ndmin = 2))\n",
        "        self.IRK_weights = torch.from_numpy(np.reshape(tmp[0:q**2+q], (q+1, q)).T).to(device)\n",
        "        self.IRK_times = torch.from_numpy(tmp[q**2+q:])\n",
        "\n",
        "        self.train_input_0, self.train_target_0 = input_0.to(device), target_0.to(device)\n",
        "\n",
        "        self.input_boundary = input_boundary.to(device)\n",
        "\n",
        "        self.dt = torch.tensor(dt).to(device)\n",
        "        self.i = 0\n",
        "\n",
        "        \n",
        "    def train(self): \n",
        "        start_time = time()\n",
        "\n",
        "        self.train_iteration(self.train_input_0, self.train_target_0, self.input_boundary)\n",
        "\n",
        "        end_time = time()\n",
        "        print('Time:', end_time - start_time)     \n",
        "\n",
        "\n",
        "    def train_iteration(self, input_0, target_0, input_1):\n",
        "                \n",
        "        def closure(): \n",
        "            if torch.is_grad_enabled():\n",
        "                self.lbfgs_optim.zero_grad()\n",
        "            predict_0, predict_1 = self.net(input_0, input_1, self.dt, self.IRK_weights)\n",
        "            loss = self.loss_function(predict_0, target_0, predict_1)\n",
        "            if loss.requires_grad:\n",
        "                loss.backward()\n",
        "            return loss\n",
        "        self.lbfgs_optim.step(closure)\n",
        "\n",
        "\n",
        "    def loss_function(self, predict_0, target_0, predict_1): \n",
        "        loss1 = torch.sum(torch.square(predict_0- target_0)) \n",
        "        loss2 = torch.sum(torch.square(predict_1))\n",
        "        return loss1+loss2\n"
      ],
      "execution_count": 7,
      "outputs": []
    },
    {
      "cell_type": "markdown",
      "metadata": {
        "id": "-70mDY_CAyRd"
      },
      "source": [
        "# **MAIN**\n"
      ]
    },
    {
      "cell_type": "markdown",
      "metadata": {
        "id": "huejQW71ywhO"
      },
      "source": [
        "## DATA PREPERATION"
      ]
    },
    {
      "cell_type": "code",
      "metadata": {
        "id": "9MzDySUNA132"
      },
      "source": [
        "import scipy.io"
      ],
      "execution_count": 8,
      "outputs": []
    },
    {
      "cell_type": "markdown",
      "metadata": {
        "id": "xPVicEkoBVGo"
      },
      "source": [
        "COLLECTING THE DATA"
      ]
    },
    {
      "cell_type": "code",
      "metadata": {
        "id": "wBQ47vBQBKsq"
      },
      "source": [
        "data = scipy.io.loadmat('/content/drive/My Drive/ETH/Private/Bachelor Thesis/Code/Paper 2/appendix/Data/burgers_shock.mat')\n",
        "\n",
        "t_data = data['t']  # SHAPE (100, 1)\n",
        "x_data = data['x']  # SHAPE (256,1)\n",
        "u_data = np.real(data['usol']).T  # SHAPE (100, 256)\n",
        "\n",
        "lb = np.array([-1.0])\n",
        "ub = np.array([1.0])\n",
        "N = 250 #number of x data points"
      ],
      "execution_count": 9,
      "outputs": []
    },
    {
      "cell_type": "code",
      "metadata": {
        "id": "ftU2ZajqyjIV",
        "outputId": "f4fe0dd4-422a-4ef3-ab77-0a27e5897cb2",
        "colab": {
          "base_uri": "https://localhost:8080/"
        }
      },
      "source": [
        "idx_x = np.random.choice(u_data.shape[1], N, replace=False) \n",
        "x_0 = x_data[idx_x, :]\n",
        "x_0 = torch.from_numpy(x_0)\n",
        "print('INIT INPUT SHAPE:', x_0.shape)\n",
        "\n",
        "idx_t0 = 10\n",
        "idx_t1 = 90\n",
        "u_0 = u_data[idx_t0:idx_t0+1, idx_x].T\n",
        "u_0 = torch.from_numpy(u_0)\n",
        "print('INIT TARGET SHAPE:', u_0.shape)\n",
        "\n",
        "x_boundary = torch.from_numpy(np.vstack((lb, ub)))\n",
        "print('BOUNDARIES:\\n', np.array(x_boundary))\n",
        "dt = t_data[idx_t1] - t_data[idx_t0]\n",
        "print('dt:', dt.item())"
      ],
      "execution_count": 10,
      "outputs": [
        {
          "output_type": "stream",
          "name": "stdout",
          "text": [
            "INIT INPUT SHAPE: torch.Size([250, 1])\n",
            "INIT TARGET SHAPE: torch.Size([250, 1])\n",
            "BOUNDARIES:\n",
            " [[-1.]\n",
            " [ 1.]]\n",
            "dt: 0.8\n"
          ]
        }
      ]
    },
    {
      "cell_type": "markdown",
      "metadata": {
        "id": "uXdPaKLP3zdk"
      },
      "source": [
        "## TRAINING"
      ]
    },
    {
      "cell_type": "markdown",
      "metadata": {
        "id": "zTWHRZHg4F0o"
      },
      "source": [
        "INITIALIZE NETWORK"
      ]
    },
    {
      "cell_type": "code",
      "metadata": {
        "id": "0PoaulQu3vcK"
      },
      "source": [
        "q = 500\n",
        "input_dim, output_dim, layer_size = 1, q+1, 100\n",
        "net = PINN(input_dim, output_dim, layer_size).to(device)"
      ],
      "execution_count": 11,
      "outputs": []
    },
    {
      "cell_type": "markdown",
      "metadata": {
        "id": "reqmFvCM81Ee"
      },
      "source": [
        "TRAINING NETWORK"
      ]
    },
    {
      "cell_type": "code",
      "metadata": {
        "id": "xjiHR9islT_f"
      },
      "source": [
        "train = Train(net, x_0, u_0, x_boundary, dt, q)"
      ],
      "execution_count": 12,
      "outputs": []
    },
    {
      "cell_type": "code",
      "metadata": {
        "id": "HLaDmNYqmrrc",
        "outputId": "dfbe50c1-207b-4efd-c08c-855425df6f8b",
        "colab": {
          "base_uri": "https://localhost:8080/"
        }
      },
      "source": [
        "train.train()"
      ],
      "execution_count": 13,
      "outputs": [
        {
          "output_type": "stream",
          "name": "stdout",
          "text": [
            "Time: 504.84653973579407\n"
          ]
        }
      ]
    },
    {
      "cell_type": "markdown",
      "metadata": {
        "id": "p74P_4EUBwJ0"
      },
      "source": [
        "## PLOTTING"
      ]
    },
    {
      "cell_type": "code",
      "metadata": {
        "id": "2PnxxeKM8TMc"
      },
      "source": [
        "import matplotlib.pyplot as plt\n",
        "from matplotlib.pyplot import savefig"
      ],
      "execution_count": 14,
      "outputs": []
    },
    {
      "cell_type": "code",
      "metadata": {
        "id": "166W0HLl5lL0"
      },
      "source": [
        "def plot_grid(u_plot, t_data, X_grid, T_grid, string_title, t_index_low=None, t_index_high=None):\n",
        "    fig = plt.subplots(figsize=(8, 4))\n",
        "    plt.contourf(T_grid, X_grid, u_plot, 1000, cmap=plt.get_cmap('Spectral'))\n",
        "    plt.colorbar()\n",
        "    plt.ylabel(r'$x$')\n",
        "    plt.xlabel(r'$t$')\n",
        "    plt.title(string_title, fontsize = 15) \n",
        "\n",
        "    try:\n",
        "        line = np.linspace(x_data.min(), x_data.max(), 2)[:,None]\n",
        "        fig[1].plot(t_data[t_index_low]*np.ones((2,1)), line, 'k--', linewidth = 1)\n",
        "        fig[1].plot(t_data[t_index_high]*np.ones((2,1)), line, 'k--', linewidth = 1)\n",
        "    except Exception:\n",
        "        pass    \n",
        "    \n",
        "\n",
        "    plt.show()\n",
        "    plt.draw()\n",
        "    #fig[0].savefig('/content/drive/My Drive/ETH/Private/Bachelor Thesis/Images/Burgers_Discrete_Inference/' + string_title.format(1000), bbox_inches='tight')\n",
        "    plt.close()\n",
        "\n",
        "def plot_time_step(x_data, x_input, t_data, u_data, u_pred, t_index, x_lb, x_ub, y_lb, y_ub, data_font, label):\n",
        "    fig = plt.subplots(figsize=(2.6, 2.6))\n",
        "    fig[1].plot(x_data, u_data[t_index,:].T, 'b-', linewidth = 2, label = 'Exact') \n",
        "    fig[1].plot(x_input, u_pred[: ,-1].cpu().detach().numpy(), data_font, linewidth = 2, label = label)      \n",
        "    fig[1].set_xlabel('$x$')\n",
        "    fig[1].set_ylabel('$u(t,x)$')    \n",
        "    fig[1].set_title('$t = %.2f$' % (t_data[t_index]), fontsize = 15)\n",
        "    fig[1].set_xlim([x_lb, x_ub])\n",
        "    fig[1].set_ylim([y_lb, y_ub])\n",
        "    fig[1].legend(loc='upper center', bbox_to_anchor=(0.5, -0.25), ncol=5, frameon=False)\n",
        "    plt.show()\n",
        "    #fig[1].figure.savefig('/content/drive/My Drive/ETH/Private/Bachelor Thesis/Images/Burgers_Discrete_Inference/target_v_pred_t%.2f' % t_data[t_index].item() + '.png', bbox_inches='tight')"
      ],
      "execution_count": 15,
      "outputs": []
    },
    {
      "cell_type": "code",
      "metadata": {
        "id": "Dcd7bUejAQe1",
        "outputId": "466f5e23-4ce2-4bcd-a270-329e9b7e1d13",
        "colab": {
          "base_uri": "https://localhost:8080/",
          "height": 316
        }
      },
      "source": [
        "X, T = np.meshgrid(x_data, t_data)\n",
        "plot_grid(u_data, t_data, X, T, 'u(t,x)', idx_t0, idx_t1)"
      ],
      "execution_count": 16,
      "outputs": [
        {
          "output_type": "stream",
          "name": "stderr",
          "text": [
            "Locator attempting to generate 1001 ticks ([-1.0, ..., 1.0]), which exceeds Locator.MAXTICKS (1000).\n"
          ]
        },
        {
          "output_type": "display_data",
          "data": {
            "image/png": "[encoded data removed]",
            "text/plain": [
              "<Figure size 576x288 with 2 Axes>"
            ]
          },
          "metadata": {
            "needs_background": "light"
          }
        }
      ]
    },
    {
      "cell_type": "code",
      "metadata": {
        "id": "tdsN2dT3AQe4",
        "outputId": "6636b191-c049-44b5-8866-49b8e373848c",
        "colab": {
          "base_uri": "https://localhost:8080/",
          "height": 483
        }
      },
      "source": [
        "u1_pred = net.predict(torch.from_numpy(x_data).to(device))\n",
        "plot_time_step(x_data, x_0.cpu().detach().numpy(), t_data, u_data, u_0, idx_t0, x_data.min(), x_data.max(), u_data.min()*1.05, u_data.max()*1.05, 'rx', 'Data')\n",
        "plot_time_step(x_data, x_data, t_data, u_data, u1_pred, idx_t1, x_data.min(), x_data.max(), u_data.min()*1.05, u_data.max()*1.05, 'r--', 'Prediction')"
      ],
      "execution_count": 17,
      "outputs": [
        {
          "output_type": "display_data",
          "data": {
            "image/png": "[encoded data removed]",
            "text/plain": [
              "<Figure size 187.2x187.2 with 1 Axes>"
            ]
          },
          "metadata": {
            "needs_background": "light"
          }
        },
        {
          "output_type": "display_data",
          "data": {
            "image/png": "[encoded data removed]",
            "text/plain": [
              "<Figure size 187.2x187.2 with 1 Axes>"
            ]
          },
          "metadata": {
            "needs_background": "light"
          }
        }
      ]
    },
    {
      "cell_type": "markdown",
      "metadata": {
        "id": "bPA-6-QQx9Vt"
      },
      "source": [
        "##ERROR\n"
      ]
    },
    {
      "cell_type": "code",
      "metadata": {
        "id": "2fnUaWe3x8hV",
        "outputId": "eb00d911-215e-4c60-b7a5-4edbf005ecb1",
        "colab": {
          "base_uri": "https://localhost:8080/"
        }
      },
      "source": [
        "criterion = nn.MSELoss()\n",
        "\n",
        "Error = criterion( u1_pred[:,-1].cpu().detach(), torch.from_numpy(u_data[idx_t1,:]))\n",
        "\n",
        "print('L2 Norm Error:', Error.item())\n",
        "\n",
        "Error_relative = Error / (torch.mean(torch.abs(torch.from_numpy(u_data[idx_t1,:]))))\n",
        "print('Relative L2 Norm Error:', Error_relative.item())"
      ],
      "execution_count": 18,
      "outputs": [
        {
          "output_type": "stream",
          "name": "stdout",
          "text": [
            "L2 Norm Error: 1.0425237616540782e-08\n",
            "Relative L2 Norm Error: 2.629483728352803e-08\n"
          ]
        }
      ]
    }
  ]
}